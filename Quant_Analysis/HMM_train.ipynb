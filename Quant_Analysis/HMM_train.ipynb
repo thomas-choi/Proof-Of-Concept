{
 "cells": [
  {
   "cell_type": "code",
   "execution_count": 5,
   "id": "07dc5114-2399-43ec-99ce-2ab86d682600",
   "metadata": {},
   "outputs": [],
   "source": [
    "from __future__ import print_function\n",
    "\n",
    "from datetime import datetime\n",
    "import pickle\n",
    "import warnings\n",
    "\n",
    "from hmmlearn.hmm import GaussianHMM\n",
    "from matplotlib import cm, pyplot as plt\n",
    "from matplotlib.dates import YearLocator, MonthLocator\n",
    "import numpy as np\n",
    "import pandas as pd\n",
    "import seaborn as sns\n",
    "\n",
    "import yfinance as yf\n",
    "import os\n",
    "# froom pathlib import Path"
   ]
  },
  {
   "cell_type": "code",
   "execution_count": 2,
   "id": "76972f28-eaea-4871-9812-04c2696f5bdb",
   "metadata": {},
   "outputs": [],
   "source": [
    "def obtain_prices_df(csv_filepath, symbol):\n",
    "    \"\"\"\n",
    "    Obtain the prices DataFrame from the CSV file,\n",
    "    filter by the end date and calculate the \n",
    "    percentage returns.\n",
    "    \"\"\"\n",
    "    full_path = os.path.join(csv_filepath, f'{symbol}.csv')\n",
    "    print(f' data full path: {full_path}')\n",
    "    if not os.path.exists(full_path):\n",
    "        data = yf.download(symbol)\n",
    "        data.to_csv(full_path)\n",
    "    df = pd.read_csv(\n",
    "        full_path, header=0,\n",
    "        names=[\n",
    "            \"Date\", \"Open\", \"High\", \"Low\", \n",
    "            \"Close\", \"Volume\", \"Adj Close\"\n",
    "        ],\n",
    "        index_col=\"Date\", parse_dates=True\n",
    "    )\n",
    "    df[\"Returns\"] = df[\"Adj Close\"].pct_change()\n",
    "    df = df[:end_date.strftime(\"%Y-%m-%d\")]\n",
    "    df.dropna(inplace=True)\n",
    "    return df\n"
   ]
  },
  {
   "cell_type": "code",
   "execution_count": 3,
   "id": "0a01e9ed-8b87-43ff-af9c-6dbe1d802205",
   "metadata": {},
   "outputs": [],
   "source": [
    "def plot_in_sample_hidden_states(hmm_model, df):\n",
    "    \"\"\"\n",
    "    Plot the adjusted closing prices masked by \n",
    "    the in-sample hidden states as a mechanism\n",
    "    to understand the market regimes.\n",
    "    \"\"\"\n",
    "    # Predict the hidden states array\n",
    "    hidden_states = hmm_model.predict(rets)\n",
    "    # Create the correctly formatted plot\n",
    "    fig, axs = plt.subplots(\n",
    "        hmm_model.n_components, \n",
    "        sharex=True, sharey=True\n",
    "    )\n",
    "    colours = cm.rainbow(\n",
    "        np.linspace(0, 1, hmm_model.n_components)\n",
    "    )\n",
    "    for i, (ax, colour) in enumerate(zip(axs, colours)):\n",
    "        mask = hidden_states == i\n",
    "        ax.plot_date(\n",
    "            df.index[mask], \n",
    "            df[\"Adj Close\"][mask], \n",
    "            \".\", linestyle='none', \n",
    "            c=colour\n",
    "        )\n",
    "        ax.set_title(\"Hidden State #%s\" % i)\n",
    "        ax.xaxis.set_major_locator(YearLocator())\n",
    "        ax.xaxis.set_minor_locator(MonthLocator())\n",
    "        ax.grid(True)\n",
    "    plt.show()\n"
   ]
  },
  {
   "cell_type": "code",
   "execution_count": 11,
   "id": "7f94fcc5-10ea-4459-b804-bfd671647b82",
   "metadata": {},
   "outputs": [
    {
     "name": "stdout",
     "output_type": "stream",
     "text": [
      "Getting daily close for \"TLT\" from start date: 1997-01-01 to  end date: 2024-06-25\n"
     ]
    }
   ],
   "source": [
    "# Hides deprecation warnings for sklearn\n",
    "warnings.filterwarnings(\"ignore\")\n",
    "\n",
    "sym=\"TLT\"\n",
    "# Create the SPY dataframe from the Yahoo Finance CSV\n",
    "# and correctly format the returns for use in the HMM\n",
    "\n",
    "start_date=\"1997-01-01\"\n",
    "end_date=datetime.today().strftime('%Y-%m-%d')\n",
    "print(\"Getting daily close for \\\"{}\\\" from start date: {} to  end date: {}\".format(sym, start_date, end_date))"
   ]
  },
  {
   "cell_type": "code",
   "execution_count": 16,
   "id": "d326b1e6-c5a6-47ed-a862-54e642532ed1",
   "metadata": {},
   "outputs": [
    {
     "name": "stderr",
     "output_type": "stream",
     "text": [
      "[*********************100%%**********************]  1 of 1 completed"
     ]
    },
    {
     "name": "stdout",
     "output_type": "stream",
     "text": [
      "                 Open       High        Low      Close  Adj Close  Volume\n",
      "Date                                                                     \n",
      "2002-07-30  81.750000  81.900002  81.519997  81.519997  39.197109    6100\n",
      "2002-07-31  81.949997  82.800003  81.900002  82.529999  39.682789   29400\n",
      "2002-08-01  82.540001  83.019997  82.540001  83.000000  39.908756   25000\n",
      "2002-08-02  83.160004  84.099998  82.879997  83.849998  40.317451   52800\n",
      "2002-08-05  84.040001  84.440002  83.849998  84.220001  40.495384   61100\n",
      "Data file saved: /home/thomas/projects/Proof-Of-Concept/Quant_Analysis/data/TLT.csv\n"
     ]
    },
    {
     "name": "stderr",
     "output_type": "stream",
     "text": [
      "\n"
     ]
    }
   ],
   "source": [
    "data = yf.download(sym, start=start_date, end=end_date)\n",
    "print(data.head())\n",
    "\n",
    "BASE_DIR = os.getcwd()\n",
    "data_path = os.path.join(BASE_DIR, \"data\", \"{}.csv\".format(sym))\n",
    "data.reset_index().to_csv(data_path)\n",
    "print(\"Data file saved: {}\".format(data_path))\n"
   ]
  },
  {
   "cell_type": "code",
   "execution_count": 5,
   "id": "7dccad4f-1344-42cb-8259-ccd37304ec6b",
   "metadata": {},
   "outputs": [
    {
     "name": "stdout",
     "output_type": "stream",
     "text": [
      " data full path: /home/thomas/projects/Proof-Of-Concept/Quant_Analysis/data/QQQ.csv\n",
      "Model Score: -646.3099795041202\n"
     ]
    },
    {
     "data": {
      "image/png": "[encoded data removed]",
      "text/plain": [
       "<Figure size 640x480 with 2 Axes>"
      ]
     },
     "metadata": {},
     "output_type": "display_data"
    },
    {
     "name": "stdout",
     "output_type": "stream",
     "text": [
      "Pickling HMM model...\n",
      "...HMM model pickled.\n"
     ]
    }
   ],
   "source": [
    "\n",
    "rets = np.column_stack([data[\"Returns\"]])\n",
    "\n",
    "pickle_path = os.path.join(BASE_DIR, \"model\", f\"{sym}.pkl\")\n",
    "print(\"Data file: {}\\nModel file: {}\".format(data_path, pickle_path))\n",
    "\n",
    "# Create the Gaussian Hidden markov Model and fit it\n",
    "# to the SPY returns data, outputting a score\n",
    "hmm_model = GaussianHMM(\n",
    "    n_components=2, covariance_type=\"full\", n_iter=1000\n",
    ").fit(rets)\n",
    "print(\"Model Score:\", hmm_model.score(rets))\n",
    "\n",
    "# Plot the in sample hidden states closing values\n",
    "plot_in_sample_hidden_states(hmm_model, data)\n",
    "\n",
    "print(\"Pickling HMM model...\")\n",
    "pickle.dump(hmm_model, open(pickle_path, \"wb\"))\n",
    "print(\"...HMM model pickled.\")\n"
   ]
  },
  {
   "cell_type": "code",
   "execution_count": null,
   "id": "aa453916-8e10-4a11-bbed-ba757d1c6c64",
   "metadata": {},
   "outputs": [],
   "source": []
  },
  {
   "cell_type": "code",
   "execution_count": null,
   "id": "f5e1357b-6031-49c3-9a61-50bde62abf41",
   "metadata": {},
   "outputs": [],
   "source": []
  }
 ],
 "metadata": {
  "kernelspec": {
   "display_name": "Python 3 (ipykernel)",
   "language": "python",
   "name": "python3"
  },
  "language_info": {
   "codemirror_mode": {
    "name": "ipython",
    "version": 3
   },
   "file_extension": ".py",
   "mimetype": "text/x-python",
   "name": "python",
   "nbconvert_exporter": "python",
   "pygments_lexer": "ipython3",
   "version": "3.10.12"
  }
 },
 "nbformat": 4,
 "nbformat_minor": 5
}
